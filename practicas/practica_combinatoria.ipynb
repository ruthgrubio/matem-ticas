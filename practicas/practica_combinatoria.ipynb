{
  "nbformat": 4,
  "nbformat_minor": 0,
  "metadata": {
    "colab": {
      "provenance": [],
      "include_colab_link": true
    },
    "kernelspec": {
      "name": "python3",
      "display_name": "Python 3"
    },
    "language_info": {
      "name": "python"
    }
  },
  "cells": [
    {
      "cell_type": "markdown",
      "metadata": {
        "id": "view-in-github",
        "colab_type": "text"
      },
      "source": [
        "<a href=\"https://colab.research.google.com/github/ruthgrubio/matem-ticas/blob/main/practicas/practica_combinatoria.ipynb\" target=\"_parent\"><img src=\"https://colab.research.google.com/assets/colab-badge.svg\" alt=\"Open In Colab\"/></a>"
      ]
    },
    {
      "cell_type": "markdown",
      "source": [
        "# Práctica 1. Combinatoria\n",
        "Resuelva los siguientes apartados de la práctica.  \n",
        "La práctica 1.1 se proporciona solucionada para que pueda servir como ejemplo.\n"
      ],
      "metadata": {
        "id": "VP-PLgSCPtPC"
      }
    },
    {
      "cell_type": "markdown",
      "source": [
        "## Práctica 1.1\n",
        "Cuatro amigos:\n",
        "* Antonio (A)\n",
        "* Begoña (B)\n",
        "* Cesar (C)\n",
        "* Diana (D)\n",
        "\n",
        "constituyen una asociación y tienen que asignar los siguientes cargos:\n",
        "* Presiente (1)\n",
        "* Vicepresidente (2)\n",
        "* Secretario (3)\n",
        "* Tesorero (4)\n",
        "\n",
        "Se pide:\n",
        "1. Escribiendo la solución en una celda de Markdown analice el caso indicando si se trata de variaciones, permutaciones o combinaciones, con o sin repetición o el caso que sea, y el motivo para clasificar el caso de esta forma.\n",
        "2. Utilizando fórmulas de $\\LaTeX$ calcule cuántos casos existen.\n",
        "3. Cree un programa en Python para calcule cuántos casos existen.\n",
        "4. Cree un programa en Python para imprimir todas las posibilidades y numérelas. Por ejemplo:\n",
        "    - 1 ABCD\n",
        "    - 2 ABDC\n",
        "    - 3 ACBD\n",
        "    - &#20; &#20; &#20; ... ... ..."
      ],
      "metadata": {
        "id": "6oyoxqfbQJDC"
      }
    },
    {
      "cell_type": "markdown",
      "source": [
        "### Solución 1.1\n",
        "* Estamos ante un caso de **permutaciones sin repetición** ya que:\n",
        " - El orden importa, no es lo mismo estar el nº1 que significa ser presidente que el nº 4 que corresponde al tesorero.\n",
        " - Intervienen todos. Son 4 amigos para 4 cargos, todos tienen cargo, lo que cambiar es el orden, esto es, el cargo que obtengan.\n",
        " - No se repiten elementos. Una persona no puede tener dos cargos simultaneamente.\n",
        "* Los casos que se obtienen con las permutaciones sin repetición son $P_{n}=n!$ que para este ejemplo son:\n",
        "\n",
        "$$P_{4}=4!=4 \\cdot 3 \\cdot 2 \\cdot 1 = 24$$"
      ],
      "metadata": {
        "id": "t5unIqR7jdZR"
      }
    },
    {
      "cell_type": "code",
      "source": [
        "import math\n",
        "p = math.factorial(4)\n",
        "print(\"Los casos son: \", p)\n",
        "print(\"Comprobación:  \", 4*3*2*1)"
      ],
      "metadata": {
        "id": "va3_l_-hmFS-",
        "colab": {
          "base_uri": "https://localhost:8080/"
        },
        "outputId": "382ca203-7378-4349-c64b-a59462f32394"
      },
      "execution_count": 54,
      "outputs": [
        {
          "output_type": "stream",
          "name": "stdout",
          "text": [
            "Los casos son:  24\n",
            "Comprobación:   24\n"
          ]
        }
      ]
    },
    {
      "cell_type": "markdown",
      "source": [
        "#### Método 1\n",
        "Sin usar librería."
      ],
      "metadata": {
        "id": "kOM3pEAGnh8v"
      }
    },
    {
      "cell_type": "code",
      "source": [
        "lista = ['A', 'B', 'C', 'D']\n",
        "contador = 1\n",
        "\n",
        "for i in lista:\n",
        "    for j in lista:\n",
        "        for k in lista:\n",
        "            for l in lista:\n",
        "                if i != j and i != k and i != l and j != k and j != l and k != l:\n",
        "                    print(f\"{contador:2d} →  {i+j+k+l}\")\n",
        "                    contador += 1"
      ],
      "metadata": {
        "id": "5--ZpSoJncj3"
      },
      "execution_count": null,
      "outputs": []
    },
    {
      "cell_type": "markdown",
      "source": [
        "#### Método 2\n",
        "* Usamos la función `permutations` de la librería `itertools`.\n",
        "* Imprimimos todas las permutaciones de los elementos de una lista."
      ],
      "metadata": {
        "id": "2PoCD5GlnwS1"
      }
    },
    {
      "cell_type": "code",
      "source": [
        "from itertools import permutations\n",
        "\n",
        "perm = permutations(['A','B','C','D'])   # obtenemos todas las permutaciones de la lista \n",
        "\n",
        "for i in list(perm):                     # imprimimos todas las permutaciones \n",
        "    print (*i)                           # con el asterisco se muestran las listas sin corchetes ni comas"
      ],
      "metadata": {
        "id": "eKkB1gQnn6_P",
        "colab": {
          "base_uri": "https://localhost:8080/"
        },
        "outputId": "13237774-f936-41cf-dd3c-a72678a1bda5"
      },
      "execution_count": 49,
      "outputs": [
        {
          "output_type": "stream",
          "name": "stdout",
          "text": [
            "A B C D\n",
            "A B D C\n",
            "A C B D\n",
            "A C D B\n",
            "A D B C\n",
            "A D C B\n",
            "B A C D\n",
            "B A D C\n",
            "B C A D\n",
            "B C D A\n",
            "B D A C\n",
            "B D C A\n",
            "C A B D\n",
            "C A D B\n",
            "C B A D\n",
            "C B D A\n",
            "C D A B\n",
            "C D B A\n",
            "D A B C\n",
            "D A C B\n",
            "D B A C\n",
            "D B C A\n",
            "D C A B\n",
            "D C B A\n"
          ]
        }
      ]
    },
    {
      "cell_type": "markdown",
      "source": [
        "## Práctica 1.2\n",
        "Cuatro amigos:\n",
        "* Antonio (A)\n",
        "* Begoña (B)\n",
        "* Cesar (C)\n",
        "* Diana (D)\n",
        "\n",
        "constituyen una asociación y tienen que asignar los siguientes cargos:\n",
        "* Presiente (1)\n",
        "* Secretario (3)\n",
        "* Tesorero (4)\n",
        "\n",
        "Se pide:\n",
        "1. Escribiendo la solución en una celda de Markdown analice el caso indicando si se trata de variaciones, permutaciones o combinaciones, con o sin repetición o el caso que sea, y el motivo para clasificar el caso de esta forma.\n",
        "2. Utilizando fórmulas de $\\LaTeX$ calcule cuántos casos existen.\n",
        "3. Cree un programa en Python para calcule cuántos casos existen.\n",
        "4. Cree un programa en Python para imprimir todas las posibilidades y numérelas. Por ejemplo:\n",
        "    - 1 ABC\n",
        "    - 2 ABD\n",
        "    - 3 ACB\n",
        "    - &#20; &#20; &#20; ... ... ..."
      ],
      "metadata": {
        "id": "sxSuCpAFSBPJ"
      }
    },
    {
      "cell_type": "markdown",
      "source": [
        "### Solución 1.2"
      ],
      "metadata": {
        "id": "xx9qsw_ej9Pd"
      }
    },
    {
      "cell_type": "code",
      "source": [
        "lista = ['A', 'B', 'C', 'D'] #EJERCICIO 2 COMBINATORIA\n",
        "contador = 1\n",
        "for j in lista: \n",
        "  for k in lista:\n",
        "    for l in lista:\n",
        "      if j != k and j != l and k != l:\n",
        "          print(f\"{contador:2d} →  {j+k+l}   \")\n",
        "          contador += 1"
      ],
      "metadata": {
        "colab": {
          "base_uri": "https://localhost:8080/"
        },
        "id": "Ut9zF13d_GqK",
        "outputId": "805f458c-ae9e-4b92-8e28-193364aff5e1"
      },
      "execution_count": 1,
      "outputs": [
        {
          "output_type": "stream",
          "name": "stdout",
          "text": [
            " 1 →  ABC   \n",
            " 2 →  ABD   \n",
            " 3 →  ACB   \n",
            " 4 →  ACD   \n",
            " 5 →  ADB   \n",
            " 6 →  ADC   \n",
            " 7 →  BAC   \n",
            " 8 →  BAD   \n",
            " 9 →  BCA   \n",
            "10 →  BCD   \n",
            "11 →  BDA   \n",
            "12 →  BDC   \n",
            "13 →  CAB   \n",
            "14 →  CAD   \n",
            "15 →  CBA   \n",
            "16 →  CBD   \n",
            "17 →  CDA   \n",
            "18 →  CDB   \n",
            "19 →  DAB   \n",
            "20 →  DAC   \n",
            "21 →  DBA   \n",
            "22 →  DBC   \n",
            "23 →  DCA   \n",
            "24 →  DCB   \n"
          ]
        }
      ]
    },
    {
      "cell_type": "markdown",
      "source": [
        "## Práctica 1.3\n",
        "Invente un caso de **variaciones sin repetición**.\n",
        "Se pide contestar a los mismos puntos que el caso anterior."
      ],
      "metadata": {
        "id": "D0S1DjF4MKmz"
      }
    },
    {
      "cell_type": "markdown",
      "source": [
        "### Solución 1.3"
      ],
      "metadata": {
        "id": "AfyuPIASj_20"
      }
    },
    {
      "cell_type": "markdown",
      "source": [
        "-  ¿Qué son? Variaciones sin repetición o variaciones ordinarias de m elementos tomados de n en n (de orden n)son los distintos grupos de n elementos distintos que se pueden hacer con los m elementos que tenemos, de forma que dos grupos se diferencian en algún elemento o en el orden de colocación. Se representa por Vm,n. (n≤m).\n",
        "\n",
        " \n",
        "-  ¿Cómo se forman?. Para construir las variaciones sin repetición, partimos del conjunto A={1,2,3,4} y vamos a construir todas las variaciones sin repetición posibles.\n",
        "\n",
        "- La fórmula que permite calcular el número de variaciones de n elementos agrupados de k en k elementos sin repetición es:\n",
        "  nVk = n!/(n-k)! con (k < n)\n",
        "\n",
        "- En un concurso de disfraces siete grupos (a,b,c,d,e) aspiran a medalla (oro, plata, bronce). ¿De cuántas formas pueden llegar a ocupar el podium?"
      ],
      "metadata": {
        "id": "DztLhmCCw791"
      }
    },
    {
      "cell_type": "code",
      "source": [
        "import itertools\n",
        "it = itertools.permutations(['a','b','c','d','e'],3)\n",
        "li = list(it)\n",
        "print(li)\n",
        "\n",
        "print()\n",
        "\n",
        "for i in range(len(li)):\n",
        "    print(f\"Variación {i+1:2d}: \", *li[i])\n",
        "  \n",
        "   "
      ],
      "metadata": {
        "colab": {
          "base_uri": "https://localhost:8080/"
        },
        "id": "3D8fiDUYFYCe",
        "outputId": "bf44c039-901e-47d8-c3c8-55effeaf71b4"
      },
      "execution_count": 132,
      "outputs": [
        {
          "output_type": "stream",
          "name": "stdout",
          "text": [
            "[('a', 'b', 'c'), ('a', 'b', 'd'), ('a', 'b', 'e'), ('a', 'c', 'b'), ('a', 'c', 'd'), ('a', 'c', 'e'), ('a', 'd', 'b'), ('a', 'd', 'c'), ('a', 'd', 'e'), ('a', 'e', 'b'), ('a', 'e', 'c'), ('a', 'e', 'd'), ('b', 'a', 'c'), ('b', 'a', 'd'), ('b', 'a', 'e'), ('b', 'c', 'a'), ('b', 'c', 'd'), ('b', 'c', 'e'), ('b', 'd', 'a'), ('b', 'd', 'c'), ('b', 'd', 'e'), ('b', 'e', 'a'), ('b', 'e', 'c'), ('b', 'e', 'd'), ('c', 'a', 'b'), ('c', 'a', 'd'), ('c', 'a', 'e'), ('c', 'b', 'a'), ('c', 'b', 'd'), ('c', 'b', 'e'), ('c', 'd', 'a'), ('c', 'd', 'b'), ('c', 'd', 'e'), ('c', 'e', 'a'), ('c', 'e', 'b'), ('c', 'e', 'd'), ('d', 'a', 'b'), ('d', 'a', 'c'), ('d', 'a', 'e'), ('d', 'b', 'a'), ('d', 'b', 'c'), ('d', 'b', 'e'), ('d', 'c', 'a'), ('d', 'c', 'b'), ('d', 'c', 'e'), ('d', 'e', 'a'), ('d', 'e', 'b'), ('d', 'e', 'c'), ('e', 'a', 'b'), ('e', 'a', 'c'), ('e', 'a', 'd'), ('e', 'b', 'a'), ('e', 'b', 'c'), ('e', 'b', 'd'), ('e', 'c', 'a'), ('e', 'c', 'b'), ('e', 'c', 'd'), ('e', 'd', 'a'), ('e', 'd', 'b'), ('e', 'd', 'c')]\n",
            "\n",
            "Variación  1:  a b c\n",
            "Variación  2:  a b d\n",
            "Variación  3:  a b e\n",
            "Variación  4:  a c b\n",
            "Variación  5:  a c d\n",
            "Variación  6:  a c e\n",
            "Variación  7:  a d b\n",
            "Variación  8:  a d c\n",
            "Variación  9:  a d e\n",
            "Variación 10:  a e b\n",
            "Variación 11:  a e c\n",
            "Variación 12:  a e d\n",
            "Variación 13:  b a c\n",
            "Variación 14:  b a d\n",
            "Variación 15:  b a e\n",
            "Variación 16:  b c a\n",
            "Variación 17:  b c d\n",
            "Variación 18:  b c e\n",
            "Variación 19:  b d a\n",
            "Variación 20:  b d c\n",
            "Variación 21:  b d e\n",
            "Variación 22:  b e a\n",
            "Variación 23:  b e c\n",
            "Variación 24:  b e d\n",
            "Variación 25:  c a b\n",
            "Variación 26:  c a d\n",
            "Variación 27:  c a e\n",
            "Variación 28:  c b a\n",
            "Variación 29:  c b d\n",
            "Variación 30:  c b e\n",
            "Variación 31:  c d a\n",
            "Variación 32:  c d b\n",
            "Variación 33:  c d e\n",
            "Variación 34:  c e a\n",
            "Variación 35:  c e b\n",
            "Variación 36:  c e d\n",
            "Variación 37:  d a b\n",
            "Variación 38:  d a c\n",
            "Variación 39:  d a e\n",
            "Variación 40:  d b a\n",
            "Variación 41:  d b c\n",
            "Variación 42:  d b e\n",
            "Variación 43:  d c a\n",
            "Variación 44:  d c b\n",
            "Variación 45:  d c e\n",
            "Variación 46:  d e a\n",
            "Variación 47:  d e b\n",
            "Variación 48:  d e c\n",
            "Variación 49:  e a b\n",
            "Variación 50:  e a c\n",
            "Variación 51:  e a d\n",
            "Variación 52:  e b a\n",
            "Variación 53:  e b c\n",
            "Variación 54:  e b d\n",
            "Variación 55:  e c a\n",
            "Variación 56:  e c b\n",
            "Variación 57:  e c d\n",
            "Variación 58:  e d a\n",
            "Variación 59:  e d b\n",
            "Variación 60:  e d c\n"
          ]
        }
      ]
    },
    {
      "cell_type": "markdown",
      "source": [
        "## Práctica 1.4\n",
        "Invente un caso de **variaciones con repetición**.\n",
        "Se pide contestar a los mismos puntos que el caso anterior."
      ],
      "metadata": {
        "id": "gvlnqCaRMTua"
      }
    },
    {
      "cell_type": "markdown",
      "source": [
        "### Solución 1.4"
      ],
      "metadata": {
        "id": "hzvsgRDbkCy1"
      }
    },
    {
      "cell_type": "markdown",
      "source": [
        "- Variaciones con repetición de m elementos tomados de n en n (de orden n) son los distintos grupos de n elementos iguales o distintos que se pueden hacer con los m elementos que tenemos, de forma que dos grupos se diferencian en algún elemento o en el orden de colocación. Se representa por VRm,n.\n",
        "\n",
        "- Las variaciones con repetición de m elementos tomados de n en n tiene como fórmula:\n",
        "\n",
        "\n",
        "𝑉𝑅𝑛𝑚=𝑚𝑛\n",
        "V\n",
        "R\n",
        "m\n",
        "n\n",
        "=\n",
        "m\n",
        "n\n",
        "  \n",
        "- Tenemos 4 numeros distintos tomados de 3 en 3 y con repetición. Observa que al correr el código salen 4^3=64 casos."
      ],
      "metadata": {
        "id": "9pf-inUMqu0s"
      }
    },
    {
      "cell_type": "code",
      "source": [
        "from traitlets.traitlets import SequenceTypes\n",
        "from prompt_toolkit.layout.containers import Sequence\n",
        "import itertools\n",
        "\n",
        "def variaciones_con_repeticion(n, Seq) :\n",
        "  contador = 0\n",
        "  for p in itertools.product(Seq, repeat=n):\n",
        "    contador += 1 \n",
        "  print (contador, \"\".join(p))\n",
        "\n",
        "secuencia = '1727'\n",
        "m = len(secuencia)\n",
        "n = 3\n",
        "variaciones_con_repeticion(n, secuencia)\n",
        "print (f\"El número de variaciones con repetición de {m} elementos tomados de {n} en {n} son {m**n}.\")"
      ],
      "metadata": {
        "colab": {
          "base_uri": "https://localhost:8080/"
        },
        "id": "7DPR8g_7C8MQ",
        "outputId": "7a6733e6-1777-43d2-d1bc-7da224d49ee9"
      },
      "execution_count": 119,
      "outputs": [
        {
          "output_type": "stream",
          "name": "stdout",
          "text": [
            "64 777\n",
            "El número de variaciones con repetición de 4 elementos tomados de 3 en 3 son 64.\n"
          ]
        }
      ]
    },
    {
      "cell_type": "markdown",
      "source": [
        "## Práctica 1.5\n",
        "Invente un caso de **permutaciones sin repetición**.\n",
        "Se pide contestar a los mismos puntos que el caso anterior."
      ],
      "metadata": {
        "id": "0OCAC-I-G5F6"
      }
    },
    {
      "cell_type": "markdown",
      "source": [
        "¿De cuantas formas distintas pueden sentarse 4 alumnos en una mesa de 4? \n",
        "\n",
        "- Nos hallamos en un caso de peremutación sin repetición, dado que estan todos los elementos, en este caso los 4 alumnos, siempre formaran grupos de 4 sin importar el orden. \n",
        "- El número de permutaciones posibles con tre elementos es de 24: \n",
        "                                   4! = 4.3.2.1 = 24\n"
      ],
      "metadata": {
        "id": "Nf1Qhxx7OuUr"
      }
    },
    {
      "cell_type": "markdown",
      "source": [
        "### Solución 1.5"
      ],
      "metadata": {
        "id": "FvLcj6XXkFOV"
      }
    },
    {
      "cell_type": "code",
      "source": [
        "lista = [\"a\", \"b\" , \"c\", \"d\"]\n",
        "contador = 1\n",
        "\n",
        "for i in lista:\n",
        "    for j in lista:\n",
        "        for k in lista:\n",
        "            for l in lista: \n",
        "                if i != j and i != k and i != l and j != k and j != l and k !=l:\n",
        "                    print(f\"{contador:2d} - {i+j+k+l}\")\n",
        "                    contador += 1"
      ],
      "metadata": {
        "colab": {
          "base_uri": "https://localhost:8080/"
        },
        "id": "oCavDgECMOZO",
        "outputId": "52725dcd-aaa9-4bc2-ace9-9dfaa15c229c"
      },
      "execution_count": 61,
      "outputs": [
        {
          "output_type": "stream",
          "name": "stdout",
          "text": [
            " 1 - abcd\n",
            " 2 - abdc\n",
            " 3 - acbd\n",
            " 4 - acdb\n",
            " 5 - adbc\n",
            " 6 - adcb\n",
            " 7 - bacd\n",
            " 8 - badc\n",
            " 9 - bcad\n",
            "10 - bcda\n",
            "11 - bdac\n",
            "12 - bdca\n",
            "13 - cabd\n",
            "14 - cadb\n",
            "15 - cbad\n",
            "16 - cbda\n",
            "17 - cdab\n",
            "18 - cdba\n",
            "19 - dabc\n",
            "20 - dacb\n",
            "21 - dbac\n",
            "22 - dbca\n",
            "23 - dcab\n",
            "24 - dcba\n"
          ]
        }
      ]
    },
    {
      "cell_type": "markdown",
      "source": [
        "## Práctica 1.6\n",
        "Invente un caso de **permutaciones con repetición**.\n",
        "Se pide contestar a los mismos puntos que el caso anterior."
      ],
      "metadata": {
        "id": "YWUXIczqLj3W"
      }
    },
    {
      "cell_type": "markdown",
      "source": [
        "### Solución 1.6"
      ],
      "metadata": {
        "id": "siAxWVVekHs6"
      }
    },
    {
      "cell_type": "code",
      "source": [],
      "metadata": {
        "id": "irGrFEmoEAMC"
      },
      "execution_count": 51,
      "outputs": []
    },
    {
      "cell_type": "markdown",
      "source": [
        "- Una permutación con repetición consiste en una permutación de m elementos, de los cuales hay varios que son iguales entre sí. Y por tanto, a la hora de calcular las distintas formas de ordenar los m elementos hay diferencias con respecto a si no hubiese elementos iguales.\n",
        "\n",
        "- ¿De cuantas formas distintas puede reordenarse la palabra lampara aunque no tengan sentido?\n",
        "\n",
        "- PR 1,2,3,4,5/7 = 7!/1!.2!.3!.4!.5! = 840\n"
      ],
      "metadata": {
        "id": "eBOqt3eUjuKQ"
      }
    },
    {
      "cell_type": "markdown",
      "source": [
        "METODO 1: USANDO MULTISET_PERMUTATIONS"
      ],
      "metadata": {
        "id": "qU56J3lbmn-2"
      }
    },
    {
      "cell_type": "code",
      "source": [
        "from math import factorial\n",
        "from sympy.utilities.iterables import multiset_permutations\n",
        "\n",
        "palabra = 'LAMPARA'\n",
        "m = len(palabra)\n",
        "lista = list(set(palabra))\n",
        "print ( \"Letras:\", lista)\n",
        "print ( \"Frecuencias\")\n",
        "\n",
        "frecuencias = []\n",
        "denominador = 1\n",
        "\n",
        "for letra in lista:\n",
        "    casos = sum([1 for i in palabra if letra==i])\n",
        "    print(f\"{letra}: {casos}\")\n",
        "    frecuencias.append (casos)\n",
        "    denominador *= factorial(casos)\n",
        "\n",
        "print(f\"Podemos reordenar la palabra {palabra} de {int(factorial (m)/denominador)} formas diferentes. \\n\")\n",
        "\n",
        "lista = [''.join(i) for i in multiset_permutations (palabra)]\n",
        "print(lista)\n",
        "print(f\"El número de casos obtenido es: {len(lista)}.\")"
      ],
      "metadata": {
        "colab": {
          "base_uri": "https://localhost:8080/"
        },
        "id": "bylpReHvmtwY",
        "outputId": "0f40ac00-c28c-42f7-c2d0-4270fe473404"
      },
      "execution_count": 84,
      "outputs": [
        {
          "output_type": "stream",
          "name": "stdout",
          "text": [
            "Letras: ['M', 'P', 'R', 'A', 'L']\n",
            "Frecuencias\n",
            "M: 1\n",
            "P: 1\n",
            "R: 1\n",
            "A: 3\n",
            "L: 1\n",
            "Podemos reordenar la palabra LAMPARA de 840 formas diferentes. \n",
            "\n",
            "['AAALMPR', 'AAALMRP', 'AAALPMR', 'AAALPRM', 'AAALRMP', 'AAALRPM', 'AAAMLPR', 'AAAMLRP', 'AAAMPLR', 'AAAMPRL', 'AAAMRLP', 'AAAMRPL', 'AAAPLMR', 'AAAPLRM', 'AAAPMLR', 'AAAPMRL', 'AAAPRLM', 'AAAPRML', 'AAARLMP', 'AAARLPM', 'AAARMLP', 'AAARMPL', 'AAARPLM', 'AAARPML', 'AALAMPR', 'AALAMRP', 'AALAPMR', 'AALAPRM', 'AALARMP', 'AALARPM', 'AALMAPR', 'AALMARP', 'AALMPAR', 'AALMPRA', 'AALMRAP', 'AALMRPA', 'AALPAMR', 'AALPARM', 'AALPMAR', 'AALPMRA', 'AALPRAM', 'AALPRMA', 'AALRAMP', 'AALRAPM', 'AALRMAP', 'AALRMPA', 'AALRPAM', 'AALRPMA', 'AAMALPR', 'AAMALRP', 'AAMAPLR', 'AAMAPRL', 'AAMARLP', 'AAMARPL', 'AAMLAPR', 'AAMLARP', 'AAMLPAR', 'AAMLPRA', 'AAMLRAP', 'AAMLRPA', 'AAMPALR', 'AAMPARL', 'AAMPLAR', 'AAMPLRA', 'AAMPRAL', 'AAMPRLA', 'AAMRALP', 'AAMRAPL', 'AAMRLAP', 'AAMRLPA', 'AAMRPAL', 'AAMRPLA', 'AAPALMR', 'AAPALRM', 'AAPAMLR', 'AAPAMRL', 'AAPARLM', 'AAPARML', 'AAPLAMR', 'AAPLARM', 'AAPLMAR', 'AAPLMRA', 'AAPLRAM', 'AAPLRMA', 'AAPMALR', 'AAPMARL', 'AAPMLAR', 'AAPMLRA', 'AAPMRAL', 'AAPMRLA', 'AAPRALM', 'AAPRAML', 'AAPRLAM', 'AAPRLMA', 'AAPRMAL', 'AAPRMLA', 'AARALMP', 'AARALPM', 'AARAMLP', 'AARAMPL', 'AARAPLM', 'AARAPML', 'AARLAMP', 'AARLAPM', 'AARLMAP', 'AARLMPA', 'AARLPAM', 'AARLPMA', 'AARMALP', 'AARMAPL', 'AARMLAP', 'AARMLPA', 'AARMPAL', 'AARMPLA', 'AARPALM', 'AARPAML', 'AARPLAM', 'AARPLMA', 'AARPMAL', 'AARPMLA', 'ALAAMPR', 'ALAAMRP', 'ALAAPMR', 'ALAAPRM', 'ALAARMP', 'ALAARPM', 'ALAMAPR', 'ALAMARP', 'ALAMPAR', 'ALAMPRA', 'ALAMRAP', 'ALAMRPA', 'ALAPAMR', 'ALAPARM', 'ALAPMAR', 'ALAPMRA', 'ALAPRAM', 'ALAPRMA', 'ALARAMP', 'ALARAPM', 'ALARMAP', 'ALARMPA', 'ALARPAM', 'ALARPMA', 'ALMAAPR', 'ALMAARP', 'ALMAPAR', 'ALMAPRA', 'ALMARAP', 'ALMARPA', 'ALMPAAR', 'ALMPARA', 'ALMPRAA', 'ALMRAAP', 'ALMRAPA', 'ALMRPAA', 'ALPAAMR', 'ALPAARM', 'ALPAMAR', 'ALPAMRA', 'ALPARAM', 'ALPARMA', 'ALPMAAR', 'ALPMARA', 'ALPMRAA', 'ALPRAAM', 'ALPRAMA', 'ALPRMAA', 'ALRAAMP', 'ALRAAPM', 'ALRAMAP', 'ALRAMPA', 'ALRAPAM', 'ALRAPMA', 'ALRMAAP', 'ALRMAPA', 'ALRMPAA', 'ALRPAAM', 'ALRPAMA', 'ALRPMAA', 'AMAALPR', 'AMAALRP', 'AMAAPLR', 'AMAAPRL', 'AMAARLP', 'AMAARPL', 'AMALAPR', 'AMALARP', 'AMALPAR', 'AMALPRA', 'AMALRAP', 'AMALRPA', 'AMAPALR', 'AMAPARL', 'AMAPLAR', 'AMAPLRA', 'AMAPRAL', 'AMAPRLA', 'AMARALP', 'AMARAPL', 'AMARLAP', 'AMARLPA', 'AMARPAL', 'AMARPLA', 'AMLAAPR', 'AMLAARP', 'AMLAPAR', 'AMLAPRA', 'AMLARAP', 'AMLARPA', 'AMLPAAR', 'AMLPARA', 'AMLPRAA', 'AMLRAAP', 'AMLRAPA', 'AMLRPAA', 'AMPAALR', 'AMPAARL', 'AMPALAR', 'AMPALRA', 'AMPARAL', 'AMPARLA', 'AMPLAAR', 'AMPLARA', 'AMPLRAA', 'AMPRAAL', 'AMPRALA', 'AMPRLAA', 'AMRAALP', 'AMRAAPL', 'AMRALAP', 'AMRALPA', 'AMRAPAL', 'AMRAPLA', 'AMRLAAP', 'AMRLAPA', 'AMRLPAA', 'AMRPAAL', 'AMRPALA', 'AMRPLAA', 'APAALMR', 'APAALRM', 'APAAMLR', 'APAAMRL', 'APAARLM', 'APAARML', 'APALAMR', 'APALARM', 'APALMAR', 'APALMRA', 'APALRAM', 'APALRMA', 'APAMALR', 'APAMARL', 'APAMLAR', 'APAMLRA', 'APAMRAL', 'APAMRLA', 'APARALM', 'APARAML', 'APARLAM', 'APARLMA', 'APARMAL', 'APARMLA', 'APLAAMR', 'APLAARM', 'APLAMAR', 'APLAMRA', 'APLARAM', 'APLARMA', 'APLMAAR', 'APLMARA', 'APLMRAA', 'APLRAAM', 'APLRAMA', 'APLRMAA', 'APMAALR', 'APMAARL', 'APMALAR', 'APMALRA', 'APMARAL', 'APMARLA', 'APMLAAR', 'APMLARA', 'APMLRAA', 'APMRAAL', 'APMRALA', 'APMRLAA', 'APRAALM', 'APRAAML', 'APRALAM', 'APRALMA', 'APRAMAL', 'APRAMLA', 'APRLAAM', 'APRLAMA', 'APRLMAA', 'APRMAAL', 'APRMALA', 'APRMLAA', 'ARAALMP', 'ARAALPM', 'ARAAMLP', 'ARAAMPL', 'ARAAPLM', 'ARAAPML', 'ARALAMP', 'ARALAPM', 'ARALMAP', 'ARALMPA', 'ARALPAM', 'ARALPMA', 'ARAMALP', 'ARAMAPL', 'ARAMLAP', 'ARAMLPA', 'ARAMPAL', 'ARAMPLA', 'ARAPALM', 'ARAPAML', 'ARAPLAM', 'ARAPLMA', 'ARAPMAL', 'ARAPMLA', 'ARLAAMP', 'ARLAAPM', 'ARLAMAP', 'ARLAMPA', 'ARLAPAM', 'ARLAPMA', 'ARLMAAP', 'ARLMAPA', 'ARLMPAA', 'ARLPAAM', 'ARLPAMA', 'ARLPMAA', 'ARMAALP', 'ARMAAPL', 'ARMALAP', 'ARMALPA', 'ARMAPAL', 'ARMAPLA', 'ARMLAAP', 'ARMLAPA', 'ARMLPAA', 'ARMPAAL', 'ARMPALA', 'ARMPLAA', 'ARPAALM', 'ARPAAML', 'ARPALAM', 'ARPALMA', 'ARPAMAL', 'ARPAMLA', 'ARPLAAM', 'ARPLAMA', 'ARPLMAA', 'ARPMAAL', 'ARPMALA', 'ARPMLAA', 'LAAAMPR', 'LAAAMRP', 'LAAAPMR', 'LAAAPRM', 'LAAARMP', 'LAAARPM', 'LAAMAPR', 'LAAMARP', 'LAAMPAR', 'LAAMPRA', 'LAAMRAP', 'LAAMRPA', 'LAAPAMR', 'LAAPARM', 'LAAPMAR', 'LAAPMRA', 'LAAPRAM', 'LAAPRMA', 'LAARAMP', 'LAARAPM', 'LAARMAP', 'LAARMPA', 'LAARPAM', 'LAARPMA', 'LAMAAPR', 'LAMAARP', 'LAMAPAR', 'LAMAPRA', 'LAMARAP', 'LAMARPA', 'LAMPAAR', 'LAMPARA', 'LAMPRAA', 'LAMRAAP', 'LAMRAPA', 'LAMRPAA', 'LAPAAMR', 'LAPAARM', 'LAPAMAR', 'LAPAMRA', 'LAPARAM', 'LAPARMA', 'LAPMAAR', 'LAPMARA', 'LAPMRAA', 'LAPRAAM', 'LAPRAMA', 'LAPRMAA', 'LARAAMP', 'LARAAPM', 'LARAMAP', 'LARAMPA', 'LARAPAM', 'LARAPMA', 'LARMAAP', 'LARMAPA', 'LARMPAA', 'LARPAAM', 'LARPAMA', 'LARPMAA', 'LMAAAPR', 'LMAAARP', 'LMAAPAR', 'LMAAPRA', 'LMAARAP', 'LMAARPA', 'LMAPAAR', 'LMAPARA', 'LMAPRAA', 'LMARAAP', 'LMARAPA', 'LMARPAA', 'LMPAAAR', 'LMPAARA', 'LMPARAA', 'LMPRAAA', 'LMRAAAP', 'LMRAAPA', 'LMRAPAA', 'LMRPAAA', 'LPAAAMR', 'LPAAARM', 'LPAAMAR', 'LPAAMRA', 'LPAARAM', 'LPAARMA', 'LPAMAAR', 'LPAMARA', 'LPAMRAA', 'LPARAAM', 'LPARAMA', 'LPARMAA', 'LPMAAAR', 'LPMAARA', 'LPMARAA', 'LPMRAAA', 'LPRAAAM', 'LPRAAMA', 'LPRAMAA', 'LPRMAAA', 'LRAAAMP', 'LRAAAPM', 'LRAAMAP', 'LRAAMPA', 'LRAAPAM', 'LRAAPMA', 'LRAMAAP', 'LRAMAPA', 'LRAMPAA', 'LRAPAAM', 'LRAPAMA', 'LRAPMAA', 'LRMAAAP', 'LRMAAPA', 'LRMAPAA', 'LRMPAAA', 'LRPAAAM', 'LRPAAMA', 'LRPAMAA', 'LRPMAAA', 'MAAALPR', 'MAAALRP', 'MAAAPLR', 'MAAAPRL', 'MAAARLP', 'MAAARPL', 'MAALAPR', 'MAALARP', 'MAALPAR', 'MAALPRA', 'MAALRAP', 'MAALRPA', 'MAAPALR', 'MAAPARL', 'MAAPLAR', 'MAAPLRA', 'MAAPRAL', 'MAAPRLA', 'MAARALP', 'MAARAPL', 'MAARLAP', 'MAARLPA', 'MAARPAL', 'MAARPLA', 'MALAAPR', 'MALAARP', 'MALAPAR', 'MALAPRA', 'MALARAP', 'MALARPA', 'MALPAAR', 'MALPARA', 'MALPRAA', 'MALRAAP', 'MALRAPA', 'MALRPAA', 'MAPAALR', 'MAPAARL', 'MAPALAR', 'MAPALRA', 'MAPARAL', 'MAPARLA', 'MAPLAAR', 'MAPLARA', 'MAPLRAA', 'MAPRAAL', 'MAPRALA', 'MAPRLAA', 'MARAALP', 'MARAAPL', 'MARALAP', 'MARALPA', 'MARAPAL', 'MARAPLA', 'MARLAAP', 'MARLAPA', 'MARLPAA', 'MARPAAL', 'MARPALA', 'MARPLAA', 'MLAAAPR', 'MLAAARP', 'MLAAPAR', 'MLAAPRA', 'MLAARAP', 'MLAARPA', 'MLAPAAR', 'MLAPARA', 'MLAPRAA', 'MLARAAP', 'MLARAPA', 'MLARPAA', 'MLPAAAR', 'MLPAARA', 'MLPARAA', 'MLPRAAA', 'MLRAAAP', 'MLRAAPA', 'MLRAPAA', 'MLRPAAA', 'MPAAALR', 'MPAAARL', 'MPAALAR', 'MPAALRA', 'MPAARAL', 'MPAARLA', 'MPALAAR', 'MPALARA', 'MPALRAA', 'MPARAAL', 'MPARALA', 'MPARLAA', 'MPLAAAR', 'MPLAARA', 'MPLARAA', 'MPLRAAA', 'MPRAAAL', 'MPRAALA', 'MPRALAA', 'MPRLAAA', 'MRAAALP', 'MRAAAPL', 'MRAALAP', 'MRAALPA', 'MRAAPAL', 'MRAAPLA', 'MRALAAP', 'MRALAPA', 'MRALPAA', 'MRAPAAL', 'MRAPALA', 'MRAPLAA', 'MRLAAAP', 'MRLAAPA', 'MRLAPAA', 'MRLPAAA', 'MRPAAAL', 'MRPAALA', 'MRPALAA', 'MRPLAAA', 'PAAALMR', 'PAAALRM', 'PAAAMLR', 'PAAAMRL', 'PAAARLM', 'PAAARML', 'PAALAMR', 'PAALARM', 'PAALMAR', 'PAALMRA', 'PAALRAM', 'PAALRMA', 'PAAMALR', 'PAAMARL', 'PAAMLAR', 'PAAMLRA', 'PAAMRAL', 'PAAMRLA', 'PAARALM', 'PAARAML', 'PAARLAM', 'PAARLMA', 'PAARMAL', 'PAARMLA', 'PALAAMR', 'PALAARM', 'PALAMAR', 'PALAMRA', 'PALARAM', 'PALARMA', 'PALMAAR', 'PALMARA', 'PALMRAA', 'PALRAAM', 'PALRAMA', 'PALRMAA', 'PAMAALR', 'PAMAARL', 'PAMALAR', 'PAMALRA', 'PAMARAL', 'PAMARLA', 'PAMLAAR', 'PAMLARA', 'PAMLRAA', 'PAMRAAL', 'PAMRALA', 'PAMRLAA', 'PARAALM', 'PARAAML', 'PARALAM', 'PARALMA', 'PARAMAL', 'PARAMLA', 'PARLAAM', 'PARLAMA', 'PARLMAA', 'PARMAAL', 'PARMALA', 'PARMLAA', 'PLAAAMR', 'PLAAARM', 'PLAAMAR', 'PLAAMRA', 'PLAARAM', 'PLAARMA', 'PLAMAAR', 'PLAMARA', 'PLAMRAA', 'PLARAAM', 'PLARAMA', 'PLARMAA', 'PLMAAAR', 'PLMAARA', 'PLMARAA', 'PLMRAAA', 'PLRAAAM', 'PLRAAMA', 'PLRAMAA', 'PLRMAAA', 'PMAAALR', 'PMAAARL', 'PMAALAR', 'PMAALRA', 'PMAARAL', 'PMAARLA', 'PMALAAR', 'PMALARA', 'PMALRAA', 'PMARAAL', 'PMARALA', 'PMARLAA', 'PMLAAAR', 'PMLAARA', 'PMLARAA', 'PMLRAAA', 'PMRAAAL', 'PMRAALA', 'PMRALAA', 'PMRLAAA', 'PRAAALM', 'PRAAAML', 'PRAALAM', 'PRAALMA', 'PRAAMAL', 'PRAAMLA', 'PRALAAM', 'PRALAMA', 'PRALMAA', 'PRAMAAL', 'PRAMALA', 'PRAMLAA', 'PRLAAAM', 'PRLAAMA', 'PRLAMAA', 'PRLMAAA', 'PRMAAAL', 'PRMAALA', 'PRMALAA', 'PRMLAAA', 'RAAALMP', 'RAAALPM', 'RAAAMLP', 'RAAAMPL', 'RAAAPLM', 'RAAAPML', 'RAALAMP', 'RAALAPM', 'RAALMAP', 'RAALMPA', 'RAALPAM', 'RAALPMA', 'RAAMALP', 'RAAMAPL', 'RAAMLAP', 'RAAMLPA', 'RAAMPAL', 'RAAMPLA', 'RAAPALM', 'RAAPAML', 'RAAPLAM', 'RAAPLMA', 'RAAPMAL', 'RAAPMLA', 'RALAAMP', 'RALAAPM', 'RALAMAP', 'RALAMPA', 'RALAPAM', 'RALAPMA', 'RALMAAP', 'RALMAPA', 'RALMPAA', 'RALPAAM', 'RALPAMA', 'RALPMAA', 'RAMAALP', 'RAMAAPL', 'RAMALAP', 'RAMALPA', 'RAMAPAL', 'RAMAPLA', 'RAMLAAP', 'RAMLAPA', 'RAMLPAA', 'RAMPAAL', 'RAMPALA', 'RAMPLAA', 'RAPAALM', 'RAPAAML', 'RAPALAM', 'RAPALMA', 'RAPAMAL', 'RAPAMLA', 'RAPLAAM', 'RAPLAMA', 'RAPLMAA', 'RAPMAAL', 'RAPMALA', 'RAPMLAA', 'RLAAAMP', 'RLAAAPM', 'RLAAMAP', 'RLAAMPA', 'RLAAPAM', 'RLAAPMA', 'RLAMAAP', 'RLAMAPA', 'RLAMPAA', 'RLAPAAM', 'RLAPAMA', 'RLAPMAA', 'RLMAAAP', 'RLMAAPA', 'RLMAPAA', 'RLMPAAA', 'RLPAAAM', 'RLPAAMA', 'RLPAMAA', 'RLPMAAA', 'RMAAALP', 'RMAAAPL', 'RMAALAP', 'RMAALPA', 'RMAAPAL', 'RMAAPLA', 'RMALAAP', 'RMALAPA', 'RMALPAA', 'RMAPAAL', 'RMAPALA', 'RMAPLAA', 'RMLAAAP', 'RMLAAPA', 'RMLAPAA', 'RMLPAAA', 'RMPAAAL', 'RMPAALA', 'RMPALAA', 'RMPLAAA', 'RPAAALM', 'RPAAAML', 'RPAALAM', 'RPAALMA', 'RPAAMAL', 'RPAAMLA', 'RPALAAM', 'RPALAMA', 'RPALMAA', 'RPAMAAL', 'RPAMALA', 'RPAMLAA', 'RPLAAAM', 'RPLAAMA', 'RPLAMAA', 'RPLMAAA', 'RPMAAAL', 'RPMAALA', 'RPMALAA', 'RPMLAAA']\n",
            "El número de casos obtenido es: 840.\n"
          ]
        }
      ]
    },
    {
      "cell_type": "markdown",
      "source": [
        "METODO 2 USANDO ITERTOOLS"
      ],
      "metadata": {
        "id": "ycCpUE_ho_WG"
      }
    },
    {
      "cell_type": "code",
      "source": [
        "from itertools import permutations\n",
        "\n",
        "p = permutations (\"LAMPARA\")\n",
        "lista = [''.join(i) for i in p]\n",
        "conjunto = set(lista)\n",
        "ordenada = list(conjunto)\n",
        "ordenada.sort()\n",
        "print(ordenada)\n",
        "print(f\"El número de casos obtenido es: {len(ordenada)}.\")"
      ],
      "metadata": {
        "colab": {
          "base_uri": "https://localhost:8080/"
        },
        "id": "nPxxaPihpD86",
        "outputId": "301b18ea-df0a-4d09-8944-5720f4c370c7"
      },
      "execution_count": 92,
      "outputs": [
        {
          "output_type": "stream",
          "name": "stdout",
          "text": [
            "['AAALMPR', 'AAALMRP', 'AAALPMR', 'AAALPRM', 'AAALRMP', 'AAALRPM', 'AAAMLPR', 'AAAMLRP', 'AAAMPLR', 'AAAMPRL', 'AAAMRLP', 'AAAMRPL', 'AAAPLMR', 'AAAPLRM', 'AAAPMLR', 'AAAPMRL', 'AAAPRLM', 'AAAPRML', 'AAARLMP', 'AAARLPM', 'AAARMLP', 'AAARMPL', 'AAARPLM', 'AAARPML', 'AALAMPR', 'AALAMRP', 'AALAPMR', 'AALAPRM', 'AALARMP', 'AALARPM', 'AALMAPR', 'AALMARP', 'AALMPAR', 'AALMPRA', 'AALMRAP', 'AALMRPA', 'AALPAMR', 'AALPARM', 'AALPMAR', 'AALPMRA', 'AALPRAM', 'AALPRMA', 'AALRAMP', 'AALRAPM', 'AALRMAP', 'AALRMPA', 'AALRPAM', 'AALRPMA', 'AAMALPR', 'AAMALRP', 'AAMAPLR', 'AAMAPRL', 'AAMARLP', 'AAMARPL', 'AAMLAPR', 'AAMLARP', 'AAMLPAR', 'AAMLPRA', 'AAMLRAP', 'AAMLRPA', 'AAMPALR', 'AAMPARL', 'AAMPLAR', 'AAMPLRA', 'AAMPRAL', 'AAMPRLA', 'AAMRALP', 'AAMRAPL', 'AAMRLAP', 'AAMRLPA', 'AAMRPAL', 'AAMRPLA', 'AAPALMR', 'AAPALRM', 'AAPAMLR', 'AAPAMRL', 'AAPARLM', 'AAPARML', 'AAPLAMR', 'AAPLARM', 'AAPLMAR', 'AAPLMRA', 'AAPLRAM', 'AAPLRMA', 'AAPMALR', 'AAPMARL', 'AAPMLAR', 'AAPMLRA', 'AAPMRAL', 'AAPMRLA', 'AAPRALM', 'AAPRAML', 'AAPRLAM', 'AAPRLMA', 'AAPRMAL', 'AAPRMLA', 'AARALMP', 'AARALPM', 'AARAMLP', 'AARAMPL', 'AARAPLM', 'AARAPML', 'AARLAMP', 'AARLAPM', 'AARLMAP', 'AARLMPA', 'AARLPAM', 'AARLPMA', 'AARMALP', 'AARMAPL', 'AARMLAP', 'AARMLPA', 'AARMPAL', 'AARMPLA', 'AARPALM', 'AARPAML', 'AARPLAM', 'AARPLMA', 'AARPMAL', 'AARPMLA', 'ALAAMPR', 'ALAAMRP', 'ALAAPMR', 'ALAAPRM', 'ALAARMP', 'ALAARPM', 'ALAMAPR', 'ALAMARP', 'ALAMPAR', 'ALAMPRA', 'ALAMRAP', 'ALAMRPA', 'ALAPAMR', 'ALAPARM', 'ALAPMAR', 'ALAPMRA', 'ALAPRAM', 'ALAPRMA', 'ALARAMP', 'ALARAPM', 'ALARMAP', 'ALARMPA', 'ALARPAM', 'ALARPMA', 'ALMAAPR', 'ALMAARP', 'ALMAPAR', 'ALMAPRA', 'ALMARAP', 'ALMARPA', 'ALMPAAR', 'ALMPARA', 'ALMPRAA', 'ALMRAAP', 'ALMRAPA', 'ALMRPAA', 'ALPAAMR', 'ALPAARM', 'ALPAMAR', 'ALPAMRA', 'ALPARAM', 'ALPARMA', 'ALPMAAR', 'ALPMARA', 'ALPMRAA', 'ALPRAAM', 'ALPRAMA', 'ALPRMAA', 'ALRAAMP', 'ALRAAPM', 'ALRAMAP', 'ALRAMPA', 'ALRAPAM', 'ALRAPMA', 'ALRMAAP', 'ALRMAPA', 'ALRMPAA', 'ALRPAAM', 'ALRPAMA', 'ALRPMAA', 'AMAALPR', 'AMAALRP', 'AMAAPLR', 'AMAAPRL', 'AMAARLP', 'AMAARPL', 'AMALAPR', 'AMALARP', 'AMALPAR', 'AMALPRA', 'AMALRAP', 'AMALRPA', 'AMAPALR', 'AMAPARL', 'AMAPLAR', 'AMAPLRA', 'AMAPRAL', 'AMAPRLA', 'AMARALP', 'AMARAPL', 'AMARLAP', 'AMARLPA', 'AMARPAL', 'AMARPLA', 'AMLAAPR', 'AMLAARP', 'AMLAPAR', 'AMLAPRA', 'AMLARAP', 'AMLARPA', 'AMLPAAR', 'AMLPARA', 'AMLPRAA', 'AMLRAAP', 'AMLRAPA', 'AMLRPAA', 'AMPAALR', 'AMPAARL', 'AMPALAR', 'AMPALRA', 'AMPARAL', 'AMPARLA', 'AMPLAAR', 'AMPLARA', 'AMPLRAA', 'AMPRAAL', 'AMPRALA', 'AMPRLAA', 'AMRAALP', 'AMRAAPL', 'AMRALAP', 'AMRALPA', 'AMRAPAL', 'AMRAPLA', 'AMRLAAP', 'AMRLAPA', 'AMRLPAA', 'AMRPAAL', 'AMRPALA', 'AMRPLAA', 'APAALMR', 'APAALRM', 'APAAMLR', 'APAAMRL', 'APAARLM', 'APAARML', 'APALAMR', 'APALARM', 'APALMAR', 'APALMRA', 'APALRAM', 'APALRMA', 'APAMALR', 'APAMARL', 'APAMLAR', 'APAMLRA', 'APAMRAL', 'APAMRLA', 'APARALM', 'APARAML', 'APARLAM', 'APARLMA', 'APARMAL', 'APARMLA', 'APLAAMR', 'APLAARM', 'APLAMAR', 'APLAMRA', 'APLARAM', 'APLARMA', 'APLMAAR', 'APLMARA', 'APLMRAA', 'APLRAAM', 'APLRAMA', 'APLRMAA', 'APMAALR', 'APMAARL', 'APMALAR', 'APMALRA', 'APMARAL', 'APMARLA', 'APMLAAR', 'APMLARA', 'APMLRAA', 'APMRAAL', 'APMRALA', 'APMRLAA', 'APRAALM', 'APRAAML', 'APRALAM', 'APRALMA', 'APRAMAL', 'APRAMLA', 'APRLAAM', 'APRLAMA', 'APRLMAA', 'APRMAAL', 'APRMALA', 'APRMLAA', 'ARAALMP', 'ARAALPM', 'ARAAMLP', 'ARAAMPL', 'ARAAPLM', 'ARAAPML', 'ARALAMP', 'ARALAPM', 'ARALMAP', 'ARALMPA', 'ARALPAM', 'ARALPMA', 'ARAMALP', 'ARAMAPL', 'ARAMLAP', 'ARAMLPA', 'ARAMPAL', 'ARAMPLA', 'ARAPALM', 'ARAPAML', 'ARAPLAM', 'ARAPLMA', 'ARAPMAL', 'ARAPMLA', 'ARLAAMP', 'ARLAAPM', 'ARLAMAP', 'ARLAMPA', 'ARLAPAM', 'ARLAPMA', 'ARLMAAP', 'ARLMAPA', 'ARLMPAA', 'ARLPAAM', 'ARLPAMA', 'ARLPMAA', 'ARMAALP', 'ARMAAPL', 'ARMALAP', 'ARMALPA', 'ARMAPAL', 'ARMAPLA', 'ARMLAAP', 'ARMLAPA', 'ARMLPAA', 'ARMPAAL', 'ARMPALA', 'ARMPLAA', 'ARPAALM', 'ARPAAML', 'ARPALAM', 'ARPALMA', 'ARPAMAL', 'ARPAMLA', 'ARPLAAM', 'ARPLAMA', 'ARPLMAA', 'ARPMAAL', 'ARPMALA', 'ARPMLAA', 'LAAAMPR', 'LAAAMRP', 'LAAAPMR', 'LAAAPRM', 'LAAARMP', 'LAAARPM', 'LAAMAPR', 'LAAMARP', 'LAAMPAR', 'LAAMPRA', 'LAAMRAP', 'LAAMRPA', 'LAAPAMR', 'LAAPARM', 'LAAPMAR', 'LAAPMRA', 'LAAPRAM', 'LAAPRMA', 'LAARAMP', 'LAARAPM', 'LAARMAP', 'LAARMPA', 'LAARPAM', 'LAARPMA', 'LAMAAPR', 'LAMAARP', 'LAMAPAR', 'LAMAPRA', 'LAMARAP', 'LAMARPA', 'LAMPAAR', 'LAMPARA', 'LAMPRAA', 'LAMRAAP', 'LAMRAPA', 'LAMRPAA', 'LAPAAMR', 'LAPAARM', 'LAPAMAR', 'LAPAMRA', 'LAPARAM', 'LAPARMA', 'LAPMAAR', 'LAPMARA', 'LAPMRAA', 'LAPRAAM', 'LAPRAMA', 'LAPRMAA', 'LARAAMP', 'LARAAPM', 'LARAMAP', 'LARAMPA', 'LARAPAM', 'LARAPMA', 'LARMAAP', 'LARMAPA', 'LARMPAA', 'LARPAAM', 'LARPAMA', 'LARPMAA', 'LMAAAPR', 'LMAAARP', 'LMAAPAR', 'LMAAPRA', 'LMAARAP', 'LMAARPA', 'LMAPAAR', 'LMAPARA', 'LMAPRAA', 'LMARAAP', 'LMARAPA', 'LMARPAA', 'LMPAAAR', 'LMPAARA', 'LMPARAA', 'LMPRAAA', 'LMRAAAP', 'LMRAAPA', 'LMRAPAA', 'LMRPAAA', 'LPAAAMR', 'LPAAARM', 'LPAAMAR', 'LPAAMRA', 'LPAARAM', 'LPAARMA', 'LPAMAAR', 'LPAMARA', 'LPAMRAA', 'LPARAAM', 'LPARAMA', 'LPARMAA', 'LPMAAAR', 'LPMAARA', 'LPMARAA', 'LPMRAAA', 'LPRAAAM', 'LPRAAMA', 'LPRAMAA', 'LPRMAAA', 'LRAAAMP', 'LRAAAPM', 'LRAAMAP', 'LRAAMPA', 'LRAAPAM', 'LRAAPMA', 'LRAMAAP', 'LRAMAPA', 'LRAMPAA', 'LRAPAAM', 'LRAPAMA', 'LRAPMAA', 'LRMAAAP', 'LRMAAPA', 'LRMAPAA', 'LRMPAAA', 'LRPAAAM', 'LRPAAMA', 'LRPAMAA', 'LRPMAAA', 'MAAALPR', 'MAAALRP', 'MAAAPLR', 'MAAAPRL', 'MAAARLP', 'MAAARPL', 'MAALAPR', 'MAALARP', 'MAALPAR', 'MAALPRA', 'MAALRAP', 'MAALRPA', 'MAAPALR', 'MAAPARL', 'MAAPLAR', 'MAAPLRA', 'MAAPRAL', 'MAAPRLA', 'MAARALP', 'MAARAPL', 'MAARLAP', 'MAARLPA', 'MAARPAL', 'MAARPLA', 'MALAAPR', 'MALAARP', 'MALAPAR', 'MALAPRA', 'MALARAP', 'MALARPA', 'MALPAAR', 'MALPARA', 'MALPRAA', 'MALRAAP', 'MALRAPA', 'MALRPAA', 'MAPAALR', 'MAPAARL', 'MAPALAR', 'MAPALRA', 'MAPARAL', 'MAPARLA', 'MAPLAAR', 'MAPLARA', 'MAPLRAA', 'MAPRAAL', 'MAPRALA', 'MAPRLAA', 'MARAALP', 'MARAAPL', 'MARALAP', 'MARALPA', 'MARAPAL', 'MARAPLA', 'MARLAAP', 'MARLAPA', 'MARLPAA', 'MARPAAL', 'MARPALA', 'MARPLAA', 'MLAAAPR', 'MLAAARP', 'MLAAPAR', 'MLAAPRA', 'MLAARAP', 'MLAARPA', 'MLAPAAR', 'MLAPARA', 'MLAPRAA', 'MLARAAP', 'MLARAPA', 'MLARPAA', 'MLPAAAR', 'MLPAARA', 'MLPARAA', 'MLPRAAA', 'MLRAAAP', 'MLRAAPA', 'MLRAPAA', 'MLRPAAA', 'MPAAALR', 'MPAAARL', 'MPAALAR', 'MPAALRA', 'MPAARAL', 'MPAARLA', 'MPALAAR', 'MPALARA', 'MPALRAA', 'MPARAAL', 'MPARALA', 'MPARLAA', 'MPLAAAR', 'MPLAARA', 'MPLARAA', 'MPLRAAA', 'MPRAAAL', 'MPRAALA', 'MPRALAA', 'MPRLAAA', 'MRAAALP', 'MRAAAPL', 'MRAALAP', 'MRAALPA', 'MRAAPAL', 'MRAAPLA', 'MRALAAP', 'MRALAPA', 'MRALPAA', 'MRAPAAL', 'MRAPALA', 'MRAPLAA', 'MRLAAAP', 'MRLAAPA', 'MRLAPAA', 'MRLPAAA', 'MRPAAAL', 'MRPAALA', 'MRPALAA', 'MRPLAAA', 'PAAALMR', 'PAAALRM', 'PAAAMLR', 'PAAAMRL', 'PAAARLM', 'PAAARML', 'PAALAMR', 'PAALARM', 'PAALMAR', 'PAALMRA', 'PAALRAM', 'PAALRMA', 'PAAMALR', 'PAAMARL', 'PAAMLAR', 'PAAMLRA', 'PAAMRAL', 'PAAMRLA', 'PAARALM', 'PAARAML', 'PAARLAM', 'PAARLMA', 'PAARMAL', 'PAARMLA', 'PALAAMR', 'PALAARM', 'PALAMAR', 'PALAMRA', 'PALARAM', 'PALARMA', 'PALMAAR', 'PALMARA', 'PALMRAA', 'PALRAAM', 'PALRAMA', 'PALRMAA', 'PAMAALR', 'PAMAARL', 'PAMALAR', 'PAMALRA', 'PAMARAL', 'PAMARLA', 'PAMLAAR', 'PAMLARA', 'PAMLRAA', 'PAMRAAL', 'PAMRALA', 'PAMRLAA', 'PARAALM', 'PARAAML', 'PARALAM', 'PARALMA', 'PARAMAL', 'PARAMLA', 'PARLAAM', 'PARLAMA', 'PARLMAA', 'PARMAAL', 'PARMALA', 'PARMLAA', 'PLAAAMR', 'PLAAARM', 'PLAAMAR', 'PLAAMRA', 'PLAARAM', 'PLAARMA', 'PLAMAAR', 'PLAMARA', 'PLAMRAA', 'PLARAAM', 'PLARAMA', 'PLARMAA', 'PLMAAAR', 'PLMAARA', 'PLMARAA', 'PLMRAAA', 'PLRAAAM', 'PLRAAMA', 'PLRAMAA', 'PLRMAAA', 'PMAAALR', 'PMAAARL', 'PMAALAR', 'PMAALRA', 'PMAARAL', 'PMAARLA', 'PMALAAR', 'PMALARA', 'PMALRAA', 'PMARAAL', 'PMARALA', 'PMARLAA', 'PMLAAAR', 'PMLAARA', 'PMLARAA', 'PMLRAAA', 'PMRAAAL', 'PMRAALA', 'PMRALAA', 'PMRLAAA', 'PRAAALM', 'PRAAAML', 'PRAALAM', 'PRAALMA', 'PRAAMAL', 'PRAAMLA', 'PRALAAM', 'PRALAMA', 'PRALMAA', 'PRAMAAL', 'PRAMALA', 'PRAMLAA', 'PRLAAAM', 'PRLAAMA', 'PRLAMAA', 'PRLMAAA', 'PRMAAAL', 'PRMAALA', 'PRMALAA', 'PRMLAAA', 'RAAALMP', 'RAAALPM', 'RAAAMLP', 'RAAAMPL', 'RAAAPLM', 'RAAAPML', 'RAALAMP', 'RAALAPM', 'RAALMAP', 'RAALMPA', 'RAALPAM', 'RAALPMA', 'RAAMALP', 'RAAMAPL', 'RAAMLAP', 'RAAMLPA', 'RAAMPAL', 'RAAMPLA', 'RAAPALM', 'RAAPAML', 'RAAPLAM', 'RAAPLMA', 'RAAPMAL', 'RAAPMLA', 'RALAAMP', 'RALAAPM', 'RALAMAP', 'RALAMPA', 'RALAPAM', 'RALAPMA', 'RALMAAP', 'RALMAPA', 'RALMPAA', 'RALPAAM', 'RALPAMA', 'RALPMAA', 'RAMAALP', 'RAMAAPL', 'RAMALAP', 'RAMALPA', 'RAMAPAL', 'RAMAPLA', 'RAMLAAP', 'RAMLAPA', 'RAMLPAA', 'RAMPAAL', 'RAMPALA', 'RAMPLAA', 'RAPAALM', 'RAPAAML', 'RAPALAM', 'RAPALMA', 'RAPAMAL', 'RAPAMLA', 'RAPLAAM', 'RAPLAMA', 'RAPLMAA', 'RAPMAAL', 'RAPMALA', 'RAPMLAA', 'RLAAAMP', 'RLAAAPM', 'RLAAMAP', 'RLAAMPA', 'RLAAPAM', 'RLAAPMA', 'RLAMAAP', 'RLAMAPA', 'RLAMPAA', 'RLAPAAM', 'RLAPAMA', 'RLAPMAA', 'RLMAAAP', 'RLMAAPA', 'RLMAPAA', 'RLMPAAA', 'RLPAAAM', 'RLPAAMA', 'RLPAMAA', 'RLPMAAA', 'RMAAALP', 'RMAAAPL', 'RMAALAP', 'RMAALPA', 'RMAAPAL', 'RMAAPLA', 'RMALAAP', 'RMALAPA', 'RMALPAA', 'RMAPAAL', 'RMAPALA', 'RMAPLAA', 'RMLAAAP', 'RMLAAPA', 'RMLAPAA', 'RMLPAAA', 'RMPAAAL', 'RMPAALA', 'RMPALAA', 'RMPLAAA', 'RPAAALM', 'RPAAAML', 'RPAALAM', 'RPAALMA', 'RPAAMAL', 'RPAAMLA', 'RPALAAM', 'RPALAMA', 'RPALMAA', 'RPAMAAL', 'RPAMALA', 'RPAMLAA', 'RPLAAAM', 'RPLAAMA', 'RPLAMAA', 'RPLMAAA', 'RPMAAAL', 'RPMAALA', 'RPMALAA', 'RPMLAAA']\n",
            "El número de casos obtenido es: 840.\n"
          ]
        }
      ]
    },
    {
      "cell_type": "markdown",
      "source": [
        "## Práctica 1.7\n",
        "Invente un caso de **combinaciones sin repetición**.\n",
        "Se pide contestar a los mismos puntos que el caso anterior."
      ],
      "metadata": {
        "id": "opCrIDtJGg1R"
      }
    },
    {
      "cell_type": "markdown",
      "source": [
        "### Solución 1.7"
      ],
      "metadata": {
        "id": "Zs46BsRnkJcl"
      }
    },
    {
      "cell_type": "markdown",
      "source": [
        "- Combinaciones sin repetición\n",
        "\n",
        "- En las combinaciones son indistinguibles los lugares que ocupan los elementos.\n",
        "Si tres amigos reciben un premio y no se distingue entre los tres premios, estaremos en un caso de combinaciones, por el contrario si fueran los puestos en un podium (oro, plata, bronce) estaríamos en un caso de permutaciones.\n",
        "El orden no importa\n",
        "Si estamos en combinaciones AB es lo mismo que BA, el orden no importa\n",
        "Estamos en el caso de combinaciones sin repetición\n",
        "Las Combinaciones de \n",
        "m\n",
        " elementos tomados de \n",
        "n\n",
        " en \n",
        "n\n",
        " (\n",
        "m\n",
        "≥\n",
        "n\n",
        ") son todas las agrupaciones posibles que se pueden hacer con \n",
        "m\n",
        " elementos de forma que:\n",
        "- No entran todos los elementos\n",
        "- No importa el orden\n",
        "- No se repiten elementos\n",
        "- La fórmula para calcular el número de combinaciones de \"n\" elementos diferentes tomada de \"k\" en \"k con k ≤ n ,es: nCk = n! / k!(n-k)!\n",
        "\n",
        "- n = Número de elementos a elegir\n",
        "- k = Número de elementos en cada combinación\n",
        "- En un restaurante pedimos tres platos de pasta entre los cinco diferentes que tienen.\n",
        "- No se pueden repetir los platos\n",
        "- Son 5 distintos:\n",
        "\n",
        "C Carbonara\n",
        "B Boloñesa\n",
        "Q Queso\n",
        "P Pesto\n",
        "S Setas\n",
        "\n",
        "Al elegir 3 platos diferentes es lo mismo PCS que SCP o que QCS, todas las permutaciones cuentan como una sola combinación, ya que el orden no importa.\n",
        "\n",
        "Combinaciones de 5 elementos tomados de 3 en 3"
      ],
      "metadata": {
        "id": "l93r6zl90bZ0"
      }
    },
    {
      "cell_type": "code",
      "source": [
        " from math import factorial\n",
        "print(f\"Los casos que se obtienen son {int(factorial(5)/factorial(3)/factorial(5-3))}\")"
      ],
      "metadata": {
        "colab": {
          "base_uri": "https://localhost:8080/"
        },
        "id": "LXjWNK-6AlRm",
        "outputId": "bb51abd8-4157-4127-95cb-cececd86fdc6"
      },
      "execution_count": 140,
      "outputs": [
        {
          "output_type": "stream",
          "name": "stdout",
          "text": [
            "Los casos que se obtienen son 10\n"
          ]
        }
      ]
    },
    {
      "cell_type": "code",
      "source": [
        "from itertools import combinations\n",
        "c = combinations('NCVFL', 3)\n",
        "\n",
        "for i in c:\n",
        "    print(\"\".join(i), end=\", \")"
      ],
      "metadata": {
        "colab": {
          "base_uri": "https://localhost:8080/"
        },
        "id": "245NTzNu2Cml",
        "outputId": "3187627e-79e5-4231-c465-35656a416e76"
      },
      "execution_count": 141,
      "outputs": [
        {
          "output_type": "stream",
          "name": "stdout",
          "text": [
            "NCV, NCF, NCL, NVF, NVL, NFL, CVF, CVL, CFL, VFL, "
          ]
        }
      ]
    },
    {
      "cell_type": "markdown",
      "source": [
        "## Práctica 1.8\n",
        "Invente un caso de **combinaciones con repetición**.\n",
        "Se pide contestar a los mismos puntos que el caso anterior."
      ],
      "metadata": {
        "id": "-7Y5WWlDGzAR"
      }
    },
    {
      "cell_type": "markdown",
      "source": [
        "- Las combinaciones con repetición de m elementos tomados de n en n (m \\ge  n), son los distintos grupos formados por n elementos de manera que:\n",
        " \n",
        "- No entran todos los elementos.\n",
        "- No importa el orden.\n",
        "- Sí se repiten los elementos.\n",
        " \n",
        "- Al número de combinaciones con repetición se de denotará por { \\bf {CR^n_m}}. El problema, entonces, consiste en determinar el valor de { CR^n_m}, el cual podemos calcular con la siguiente fórmula:\n",
        " \n",
        "\\displaystyle { CR_m^n = \\binom{m+n-1}{n} = \\frac{(m+n-1)!}{n!(m-1)!} }\n",
        " \n",
        "- El número { CR^n_m} se representa también por el símbolo { \\bf{\\binom{m+n-1}{n} }}. Cuando se utiliza esta notación, este número se llama coeficiente binomial.- "
      ],
      "metadata": {
        "id": "_SzC957uvLEN"
      }
    },
    {
      "cell_type": "code",
      "source": [
        "from itertools import combinations_with_replacement\n",
        "c = combinations_with_replacement('RUTISSSS', 4)\n",
        "\n",
        "for i in c:\n",
        "    print(*i)\n",
        "    print(f\"{contador:2d}\")\n",
        "    contador += 1\n",
        "\n",
        "m = 8\n",
        "n = 4\n"
      ],
      "metadata": {
        "colab": {
          "base_uri": "https://localhost:8080/"
        },
        "id": "j-BEhY-MvtwQ",
        "outputId": "8f27e803-6897-46ba-c1ad-ee6493aa850d"
      },
      "execution_count": 138,
      "outputs": [
        {
          "output_type": "stream",
          "name": "stdout",
          "text": [
            "R R R R\n",
            "985\n",
            "R R R U\n",
            "986\n",
            "R R R T\n",
            "987\n",
            "R R R I\n",
            "988\n",
            "R R R S\n",
            "989\n",
            "R R R S\n",
            "990\n",
            "R R R S\n",
            "991\n",
            "R R R S\n",
            "992\n",
            "R R U U\n",
            "993\n",
            "R R U T\n",
            "994\n",
            "R R U I\n",
            "995\n",
            "R R U S\n",
            "996\n",
            "R R U S\n",
            "997\n",
            "R R U S\n",
            "998\n",
            "R R U S\n",
            "999\n",
            "R R T T\n",
            "1000\n",
            "R R T I\n",
            "1001\n",
            "R R T S\n",
            "1002\n",
            "R R T S\n",
            "1003\n",
            "R R T S\n",
            "1004\n",
            "R R T S\n",
            "1005\n",
            "R R I I\n",
            "1006\n",
            "R R I S\n",
            "1007\n",
            "R R I S\n",
            "1008\n",
            "R R I S\n",
            "1009\n",
            "R R I S\n",
            "1010\n",
            "R R S S\n",
            "1011\n",
            "R R S S\n",
            "1012\n",
            "R R S S\n",
            "1013\n",
            "R R S S\n",
            "1014\n",
            "R R S S\n",
            "1015\n",
            "R R S S\n",
            "1016\n",
            "R R S S\n",
            "1017\n",
            "R R S S\n",
            "1018\n",
            "R R S S\n",
            "1019\n",
            "R R S S\n",
            "1020\n",
            "R U U U\n",
            "1021\n",
            "R U U T\n",
            "1022\n",
            "R U U I\n",
            "1023\n",
            "R U U S\n",
            "1024\n",
            "R U U S\n",
            "1025\n",
            "R U U S\n",
            "1026\n",
            "R U U S\n",
            "1027\n",
            "R U T T\n",
            "1028\n",
            "R U T I\n",
            "1029\n",
            "R U T S\n",
            "1030\n",
            "R U T S\n",
            "1031\n",
            "R U T S\n",
            "1032\n",
            "R U T S\n",
            "1033\n",
            "R U I I\n",
            "1034\n",
            "R U I S\n",
            "1035\n",
            "R U I S\n",
            "1036\n",
            "R U I S\n",
            "1037\n",
            "R U I S\n",
            "1038\n",
            "R U S S\n",
            "1039\n",
            "R U S S\n",
            "1040\n",
            "R U S S\n",
            "1041\n",
            "R U S S\n",
            "1042\n",
            "R U S S\n",
            "1043\n",
            "R U S S\n",
            "1044\n",
            "R U S S\n",
            "1045\n",
            "R U S S\n",
            "1046\n",
            "R U S S\n",
            "1047\n",
            "R U S S\n",
            "1048\n",
            "R T T T\n",
            "1049\n",
            "R T T I\n",
            "1050\n",
            "R T T S\n",
            "1051\n",
            "R T T S\n",
            "1052\n",
            "R T T S\n",
            "1053\n",
            "R T T S\n",
            "1054\n",
            "R T I I\n",
            "1055\n",
            "R T I S\n",
            "1056\n",
            "R T I S\n",
            "1057\n",
            "R T I S\n",
            "1058\n",
            "R T I S\n",
            "1059\n",
            "R T S S\n",
            "1060\n",
            "R T S S\n",
            "1061\n",
            "R T S S\n",
            "1062\n",
            "R T S S\n",
            "1063\n",
            "R T S S\n",
            "1064\n",
            "R T S S\n",
            "1065\n",
            "R T S S\n",
            "1066\n",
            "R T S S\n",
            "1067\n",
            "R T S S\n",
            "1068\n",
            "R T S S\n",
            "1069\n",
            "R I I I\n",
            "1070\n",
            "R I I S\n",
            "1071\n",
            "R I I S\n",
            "1072\n",
            "R I I S\n",
            "1073\n",
            "R I I S\n",
            "1074\n",
            "R I S S\n",
            "1075\n",
            "R I S S\n",
            "1076\n",
            "R I S S\n",
            "1077\n",
            "R I S S\n",
            "1078\n",
            "R I S S\n",
            "1079\n",
            "R I S S\n",
            "1080\n",
            "R I S S\n",
            "1081\n",
            "R I S S\n",
            "1082\n",
            "R I S S\n",
            "1083\n",
            "R I S S\n",
            "1084\n",
            "R S S S\n",
            "1085\n",
            "R S S S\n",
            "1086\n",
            "R S S S\n",
            "1087\n",
            "R S S S\n",
            "1088\n",
            "R S S S\n",
            "1089\n",
            "R S S S\n",
            "1090\n",
            "R S S S\n",
            "1091\n",
            "R S S S\n",
            "1092\n",
            "R S S S\n",
            "1093\n",
            "R S S S\n",
            "1094\n",
            "R S S S\n",
            "1095\n",
            "R S S S\n",
            "1096\n",
            "R S S S\n",
            "1097\n",
            "R S S S\n",
            "1098\n",
            "R S S S\n",
            "1099\n",
            "R S S S\n",
            "1100\n",
            "R S S S\n",
            "1101\n",
            "R S S S\n",
            "1102\n",
            "R S S S\n",
            "1103\n",
            "R S S S\n",
            "1104\n",
            "U U U U\n",
            "1105\n",
            "U U U T\n",
            "1106\n",
            "U U U I\n",
            "1107\n",
            "U U U S\n",
            "1108\n",
            "U U U S\n",
            "1109\n",
            "U U U S\n",
            "1110\n",
            "U U U S\n",
            "1111\n",
            "U U T T\n",
            "1112\n",
            "U U T I\n",
            "1113\n",
            "U U T S\n",
            "1114\n",
            "U U T S\n",
            "1115\n",
            "U U T S\n",
            "1116\n",
            "U U T S\n",
            "1117\n",
            "U U I I\n",
            "1118\n",
            "U U I S\n",
            "1119\n",
            "U U I S\n",
            "1120\n",
            "U U I S\n",
            "1121\n",
            "U U I S\n",
            "1122\n",
            "U U S S\n",
            "1123\n",
            "U U S S\n",
            "1124\n",
            "U U S S\n",
            "1125\n",
            "U U S S\n",
            "1126\n",
            "U U S S\n",
            "1127\n",
            "U U S S\n",
            "1128\n",
            "U U S S\n",
            "1129\n",
            "U U S S\n",
            "1130\n",
            "U U S S\n",
            "1131\n",
            "U U S S\n",
            "1132\n",
            "U T T T\n",
            "1133\n",
            "U T T I\n",
            "1134\n",
            "U T T S\n",
            "1135\n",
            "U T T S\n",
            "1136\n",
            "U T T S\n",
            "1137\n",
            "U T T S\n",
            "1138\n",
            "U T I I\n",
            "1139\n",
            "U T I S\n",
            "1140\n",
            "U T I S\n",
            "1141\n",
            "U T I S\n",
            "1142\n",
            "U T I S\n",
            "1143\n",
            "U T S S\n",
            "1144\n",
            "U T S S\n",
            "1145\n",
            "U T S S\n",
            "1146\n",
            "U T S S\n",
            "1147\n",
            "U T S S\n",
            "1148\n",
            "U T S S\n",
            "1149\n",
            "U T S S\n",
            "1150\n",
            "U T S S\n",
            "1151\n",
            "U T S S\n",
            "1152\n",
            "U T S S\n",
            "1153\n",
            "U I I I\n",
            "1154\n",
            "U I I S\n",
            "1155\n",
            "U I I S\n",
            "1156\n",
            "U I I S\n",
            "1157\n",
            "U I I S\n",
            "1158\n",
            "U I S S\n",
            "1159\n",
            "U I S S\n",
            "1160\n",
            "U I S S\n",
            "1161\n",
            "U I S S\n",
            "1162\n",
            "U I S S\n",
            "1163\n",
            "U I S S\n",
            "1164\n",
            "U I S S\n",
            "1165\n",
            "U I S S\n",
            "1166\n",
            "U I S S\n",
            "1167\n",
            "U I S S\n",
            "1168\n",
            "U S S S\n",
            "1169\n",
            "U S S S\n",
            "1170\n",
            "U S S S\n",
            "1171\n",
            "U S S S\n",
            "1172\n",
            "U S S S\n",
            "1173\n",
            "U S S S\n",
            "1174\n",
            "U S S S\n",
            "1175\n",
            "U S S S\n",
            "1176\n",
            "U S S S\n",
            "1177\n",
            "U S S S\n",
            "1178\n",
            "U S S S\n",
            "1179\n",
            "U S S S\n",
            "1180\n",
            "U S S S\n",
            "1181\n",
            "U S S S\n",
            "1182\n",
            "U S S S\n",
            "1183\n",
            "U S S S\n",
            "1184\n",
            "U S S S\n",
            "1185\n",
            "U S S S\n",
            "1186\n",
            "U S S S\n",
            "1187\n",
            "U S S S\n",
            "1188\n",
            "T T T T\n",
            "1189\n",
            "T T T I\n",
            "1190\n",
            "T T T S\n",
            "1191\n",
            "T T T S\n",
            "1192\n",
            "T T T S\n",
            "1193\n",
            "T T T S\n",
            "1194\n",
            "T T I I\n",
            "1195\n",
            "T T I S\n",
            "1196\n",
            "T T I S\n",
            "1197\n",
            "T T I S\n",
            "1198\n",
            "T T I S\n",
            "1199\n",
            "T T S S\n",
            "1200\n",
            "T T S S\n",
            "1201\n",
            "T T S S\n",
            "1202\n",
            "T T S S\n",
            "1203\n",
            "T T S S\n",
            "1204\n",
            "T T S S\n",
            "1205\n",
            "T T S S\n",
            "1206\n",
            "T T S S\n",
            "1207\n",
            "T T S S\n",
            "1208\n",
            "T T S S\n",
            "1209\n",
            "T I I I\n",
            "1210\n",
            "T I I S\n",
            "1211\n",
            "T I I S\n",
            "1212\n",
            "T I I S\n",
            "1213\n",
            "T I I S\n",
            "1214\n",
            "T I S S\n",
            "1215\n",
            "T I S S\n",
            "1216\n",
            "T I S S\n",
            "1217\n",
            "T I S S\n",
            "1218\n",
            "T I S S\n",
            "1219\n",
            "T I S S\n",
            "1220\n",
            "T I S S\n",
            "1221\n",
            "T I S S\n",
            "1222\n",
            "T I S S\n",
            "1223\n",
            "T I S S\n",
            "1224\n",
            "T S S S\n",
            "1225\n",
            "T S S S\n",
            "1226\n",
            "T S S S\n",
            "1227\n",
            "T S S S\n",
            "1228\n",
            "T S S S\n",
            "1229\n",
            "T S S S\n",
            "1230\n",
            "T S S S\n",
            "1231\n",
            "T S S S\n",
            "1232\n",
            "T S S S\n",
            "1233\n",
            "T S S S\n",
            "1234\n",
            "T S S S\n",
            "1235\n",
            "T S S S\n",
            "1236\n",
            "T S S S\n",
            "1237\n",
            "T S S S\n",
            "1238\n",
            "T S S S\n",
            "1239\n",
            "T S S S\n",
            "1240\n",
            "T S S S\n",
            "1241\n",
            "T S S S\n",
            "1242\n",
            "T S S S\n",
            "1243\n",
            "T S S S\n",
            "1244\n",
            "I I I I\n",
            "1245\n",
            "I I I S\n",
            "1246\n",
            "I I I S\n",
            "1247\n",
            "I I I S\n",
            "1248\n",
            "I I I S\n",
            "1249\n",
            "I I S S\n",
            "1250\n",
            "I I S S\n",
            "1251\n",
            "I I S S\n",
            "1252\n",
            "I I S S\n",
            "1253\n",
            "I I S S\n",
            "1254\n",
            "I I S S\n",
            "1255\n",
            "I I S S\n",
            "1256\n",
            "I I S S\n",
            "1257\n",
            "I I S S\n",
            "1258\n",
            "I I S S\n",
            "1259\n",
            "I S S S\n",
            "1260\n",
            "I S S S\n",
            "1261\n",
            "I S S S\n",
            "1262\n",
            "I S S S\n",
            "1263\n",
            "I S S S\n",
            "1264\n",
            "I S S S\n",
            "1265\n",
            "I S S S\n",
            "1266\n",
            "I S S S\n",
            "1267\n",
            "I S S S\n",
            "1268\n",
            "I S S S\n",
            "1269\n",
            "I S S S\n",
            "1270\n",
            "I S S S\n",
            "1271\n",
            "I S S S\n",
            "1272\n",
            "I S S S\n",
            "1273\n",
            "I S S S\n",
            "1274\n",
            "I S S S\n",
            "1275\n",
            "I S S S\n",
            "1276\n",
            "I S S S\n",
            "1277\n",
            "I S S S\n",
            "1278\n",
            "I S S S\n",
            "1279\n",
            "S S S S\n",
            "1280\n",
            "S S S S\n",
            "1281\n",
            "S S S S\n",
            "1282\n",
            "S S S S\n",
            "1283\n",
            "S S S S\n",
            "1284\n",
            "S S S S\n",
            "1285\n",
            "S S S S\n",
            "1286\n",
            "S S S S\n",
            "1287\n",
            "S S S S\n",
            "1288\n",
            "S S S S\n",
            "1289\n",
            "S S S S\n",
            "1290\n",
            "S S S S\n",
            "1291\n",
            "S S S S\n",
            "1292\n",
            "S S S S\n",
            "1293\n",
            "S S S S\n",
            "1294\n",
            "S S S S\n",
            "1295\n",
            "S S S S\n",
            "1296\n",
            "S S S S\n",
            "1297\n",
            "S S S S\n",
            "1298\n",
            "S S S S\n",
            "1299\n",
            "S S S S\n",
            "1300\n",
            "S S S S\n",
            "1301\n",
            "S S S S\n",
            "1302\n",
            "S S S S\n",
            "1303\n",
            "S S S S\n",
            "1304\n",
            "S S S S\n",
            "1305\n",
            "S S S S\n",
            "1306\n",
            "S S S S\n",
            "1307\n",
            "S S S S\n",
            "1308\n",
            "S S S S\n",
            "1309\n",
            "S S S S\n",
            "1310\n",
            "S S S S\n",
            "1311\n",
            "S S S S\n",
            "1312\n",
            "S S S S\n",
            "1313\n",
            "S S S S\n",
            "1314\n"
          ]
        }
      ]
    },
    {
      "cell_type": "markdown",
      "source": [
        "### Solución 1.8"
      ],
      "metadata": {
        "id": "ReRULqd8kL1F"
      }
    },
    {
      "cell_type": "markdown",
      "source": [
        "## Práctica 1.9\n",
        "En el gobierno se crea una unidad de crisis formada por el presidente (P) y 4 ministros (A,B,C,D) que se reúnen sentados alrededor de una **mesa redonda**.\n",
        "\n",
        "Se pide:  \n",
        "1. Calcule de cuantas formas pueden llegar a sentarse si el ministro de defensa (D) siempre ha de estar al lado del presidente (P). Escriba la solución en una celda de Markdown utilizando fórmulas en $\\LaTeX$  explicando el caso.\n",
        "2. Cree un programa en Python para calcular el número de casos que se pueden dar al sentarse en la mesa.\n",
        "3. Cree un programa en Python para imprimir todas las posibilidades y numérelas. Por ejemplo:\n",
        "    - 1 PDABC\n",
        "    - 2 PDACB\n",
        "    - 3 PDBCD\n",
        "    - 4 PDBDC\n",
        "    - 5 PDCAB\n",
        "    - 6 PDCBA\n",
        "    - 7 DPABC\n",
        "    - 8 DPACB\n",
        "    - &#20; &#20; &#20; ... ... ...\n"
      ],
      "metadata": {
        "id": "SOzxh_YgHnDG"
      }
    },
    {
      "cell_type": "markdown",
      "source": [
        "### Solución 1.9"
      ],
      "metadata": {
        "id": "F8kV034OkQZX"
      }
    },
    {
      "cell_type": "markdown",
      "source": [
        "- Ahora estamos ante un caso de permutaciones circulares, que consisten en que los elementos se colocan en forma de círculo alrededor de una mesa redonda donde no hay ni un primer elemento ni un último. \n",
        "\n",
        "- El orden en este caso si que importa ya que el presidente tiene que estar siempre al lado del ministro de defensa. \n",
        "\n",
        "La formula que vamos a utilizar va a ser: PCn = Pn-1 = (n - 1)!\n",
        "\n",
        "En este ejemplo es: \n",
        "\n",
        "- Dado que el presidente y el elemento D tienen que ir siempre juntos constuyen un elemento y lo llamaremos E, por ello, la forma de colocar 4 elementos alrededor de la mesa circular es:\n",
        "\n",
        "PC4 = P4-1 = (4 - 1)! = 3! = 6\n",
        "\n",
        "- Por otro lado el elemento E pueden permutarse entre sí, de forma que en un caso el presidente tendria al elemento D a su derecha y en el\n",
        "otro caso a la izquierda:\n",
        "\n",
        "P2 = 2! = 2\n",
        "\n",
        "• Dado que ambos sucesos son independientes y siceden simultáneamente se relacionan de forma multiplicativaa. Por lo tanto, el resultado es el producto de ambos sucesos:\n",
        "\n",
        "PC5.P2 = 6.2 = 12\n"
      ],
      "metadata": {
        "id": "o9jDSniZUvsO"
      }
    },
    {
      "cell_type": "code",
      "source": [
        "import math\n",
        "from itertools import permutations\n",
        "\n",
        "p = list(permutations(\"ABC\"))\n",
        "\n",
        "texto = ''\n",
        "for v in p:\n",
        "\n",
        "    texto += 'PD' +  ''.join(v) + ','\n",
        "for v in p:\n",
        "\n",
        "    texto += 'DP' +  ''.join(v) + ','\n",
        "\n",
        "print(texto[:-1])"
      ],
      "metadata": {
        "colab": {
          "base_uri": "https://localhost:8080/"
        },
        "id": "99BWu7MaGsc0",
        "outputId": "f751f102-c5ae-416a-b4f5-d9a8b6b31615"
      },
      "execution_count": 83,
      "outputs": [
        {
          "output_type": "stream",
          "name": "stdout",
          "text": [
            "PDABC,PDACB,PDBAC,PDBCA,PDCAB,PDCBA,DPABC,DPACB,DPBAC,DPBCA,DPCAB,DPCBA\n"
          ]
        }
      ]
    },
    {
      "cell_type": "markdown",
      "source": [
        "## Práctica 1.10\n",
        "* Realice una breve explicación teórica del **triángulo de Pascal**, o también llamado triángulo de Tartaglia, y de las fórmulas de los números combinatorios.\n",
        "* Cree un programa en Python para hacer el triángulo de Pascal."
      ],
      "metadata": {
        "id": "eiHdMOP-MkrZ"
      }
    },
    {
      "cell_type": "markdown",
      "source": [
        "### Solución 1.10"
      ],
      "metadata": {
        "id": "j0UT2579kTSM"
      }
    },
    {
      "cell_type": "markdown",
      "source": [
        "Permite calcular de forma sencilla números combinatorios, lo que sirve para aplicar en binomios. El triángulo de pascal nos proporciona una gran ayuda en la cual nos podemos guiar para realizar y resolver binomios."
      ],
      "metadata": {
        "id": "DlcKSYiwBQV6"
      }
    },
    {
      "cell_type": "code",
      "source": [
        "num = int(input(\"Introduce el número de filas:\"))  \n",
        "  \n",
        "for n in range(6, num+1):  \n",
        "    for m in range(5, num-n+6):  \n",
        "        print(' ', end='')  \n",
        "  \n",
        "   # El primer elemento siempre es 6  \n",
        "    B = 6  \n",
        "    for m in range(6, n+1):  \n",
        "  \n",
        "      # El primer valor en una linea siempre es 1  \n",
        "      print(' ', B, sep='', end='')  \n",
        "  \n",
        "      # Usamos el coeficiente binomial  \n",
        "      BC = B * (n - m) // m \n",
        "    print()  "
      ],
      "metadata": {
        "colab": {
          "base_uri": "https://localhost:8080/"
        },
        "id": "AvGwBFX6BaBw",
        "outputId": "51840f16-6b7a-4936-da24-05db340d3ac4"
      },
      "execution_count": 16,
      "outputs": [
        {
          "output_type": "stream",
          "name": "stdout",
          "text": [
            "Introduce el número de filas:12\n",
            "        6\n",
            "       6 6\n",
            "      6 6 6\n",
            "     6 6 6 6\n",
            "    6 6 6 6 6\n",
            "   6 6 6 6 6 6\n",
            "  6 6 6 6 6 6 6\n"
          ]
        }
      ]
    }
  ]
}